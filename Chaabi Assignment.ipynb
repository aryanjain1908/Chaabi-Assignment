{
 "cells": [
  {
   "cell_type": "markdown",
   "id": "65a35996",
   "metadata": {},
   "source": [
    "# Q1:-\n",
    "\n",
    "## Implementation Of Selection Sort"
   ]
  },
  {
   "cell_type": "code",
   "execution_count": 6,
   "id": "b6f950c0",
   "metadata": {},
   "outputs": [
    {
     "name": "stdout",
     "output_type": "stream",
     "text": [
      "[5,1,3]\n",
      "[1, 3, 5]\n"
     ]
    }
   ],
   "source": [
    "# importing required modules\n",
    "# using this module we can fetch the input list\n",
    "import ast\n",
    "\n",
    "# creating a function that sorts the list\n",
    "def selection_sort(input_list):\n",
    "    '''this function sort the input list and returns the\n",
    "    sorted list using selection sort algorithm'''\n",
    "    \n",
    "    #handling the exceptions\n",
    "    try:\n",
    "        \n",
    "        #raise the exception if input is not of type list\n",
    "        if type(input_list) != list:\n",
    "            raise Exception(\"Input must be a list.\")\n",
    "            \n",
    "        if len(input_list) <= 1:\n",
    "            return input_list\n",
    "        \n",
    "        else:\n",
    "            \n",
    "            #iterating over the list\n",
    "            for i in range(len(input_list)-1):\n",
    "                min_value = input_list[i]\n",
    "                index = i\n",
    "                \n",
    "                #selecting minimum value to swap\n",
    "                for j in range(i+1, len(input_list)):\n",
    "                    if input_list[j] < min_value:\n",
    "                        min_value = input_list[j]\n",
    "                        index = j\n",
    "                \n",
    "                #swapping the elements\n",
    "                input_list[i], input_list[index] = input_list[index], input_list[i]\n",
    "    \n",
    "            #returning the sorted list\n",
    "            return input_list\n",
    "            \n",
    "    except Exception as e:\n",
    "        print(e)\n",
    "    \n",
    "\n",
    "# creating the main function\n",
    "if __name__ == '__main__':\n",
    "    \n",
    "    # this line take input from the user\n",
    "    input_list = ast.literal_eval(input())\n",
    "\n",
    "    # passing input list to the function to sort the list\n",
    "    sorted_list = selection_sort(input_list)\n",
    "\n",
    "    # printing sorted list\n",
    "    print(sorted_list)"
   ]
  },
  {
   "cell_type": "markdown",
   "id": "48aa8089",
   "metadata": {},
   "source": [
    "# Question 2:-\n",
    "\n",
    "### Write a program that returns the file type from a file name. The type of the file is determined\n",
    "### from the extension. Initially, a list of values of the form \"extension,type\"(e.g. xls,spreadsheet;\n",
    "### png,image) will be input.\n",
    "### The program takes input in the following form:\n",
    "### 1. Input extension and type values in the form of a string having the following format:\n",
    "### a. \"extension1,type1;extension2,type2;extension3,type3\"\n",
    "### b. E.g. If we needed to input xls → spreadsheet, xlsx → spreadsheet, jpg → image\n",
    "### our string would be something like: \"xls,spreadsheet;xlsx,spreadsheet;jpg,image\"\n",
    "### 2. Input a list of filename.extension. E.g. an input list could be something like [\"abc.html\",\n",
    "### \"xyz.xls\", \"text.csv\", \"123\"]\n",
    "### The program should return a dict of filename: type pairs\n"
   ]
  },
  {
   "cell_type": "code",
   "execution_count": 2,
   "id": "2390737e",
   "metadata": {},
   "outputs": [
    {
     "name": "stdout",
     "output_type": "stream",
     "text": [
      "xls,spreadsheet;xlsx,spreadsheet;jpg,image\n",
      "[\"abc.jpg\", \"xyz.xls\", \"text.csv\", \"123\"]\n",
      "{'abc.jpg': 'image', 'xyz.xls': 'spreadsheet', 'text.csv': 'unknown', '123': 'unknown'}\n"
     ]
    }
   ],
   "source": [
    "# importing required modules\n",
    "import ast\n",
    "\n",
    "# function that returns the file type\n",
    "def get_file_types(extension_type, files):\n",
    "    \n",
    "    '''this function returns the dictionary with file types\n",
    "    by fetching the extension'''\n",
    "    \n",
    "    extension_dictionary = {}\n",
    "    file_types = {}\n",
    "    \n",
    "    for i in extension_type.split(';'):\n",
    "        key = i.split(',')[0]\n",
    "        value = i.split(',')[1]\n",
    "        extension_dictionary[key] = value\n",
    "        \n",
    "    for i in files:\n",
    "        if i.split('.')[-1] not in extension_dictionary or len(i.split('.')) == 0:\n",
    "            file_types[i] = \"unknown\"\n",
    "        else:\n",
    "            file_types[i] = extension_dictionary[i.split('.')[-1]]\n",
    "            \n",
    "    return file_types\n",
    "\n",
    "# main function\n",
    "if __name__ == '__main__':\n",
    "    \n",
    "    extension_type = input()\n",
    "    files = ast.literal_eval(input())\n",
    "    \n",
    "    file_types = get_file_types(extension_type, files)\n",
    "    \n",
    "    print(file_types)"
   ]
  },
  {
   "cell_type": "markdown",
   "id": "a37db491",
   "metadata": {},
   "source": [
    "# Question 3:-\n",
    "\n",
    "### Given a list of dicts, write a program to sort the list according to a key given in input"
   ]
  },
  {
   "cell_type": "code",
   "execution_count": 4,
   "id": "f5bb0655",
   "metadata": {},
   "outputs": [
    {
     "name": "stdout",
     "output_type": "stream",
     "text": [
      "[ {\"fruit\": \"orange\", \"color\": \"orange\"}, {\"fruit\": \"apple\", \"color\": \"red\"}, {\"fruit\": \"banana\", \"color\": \"yellow\"}, {\"fruit\": \"blueberry\", \"color\": \"blue\"} ]\n",
      "color\n",
      "[{'fruit': 'blueberry', 'color': 'blue'}, {'fruit': 'orange', 'color': 'orange'}, {'fruit': 'apple', 'color': 'red'}, {'fruit': 'banana', 'color': 'yellow'}]\n"
     ]
    }
   ],
   "source": [
    "# importing required modules\n",
    "import ast\n",
    "\n",
    "# function that returns the sorted dictionary\n",
    "def sort_dict_key(dictionary, key):\n",
    "    \n",
    "    for i in range(len(dictionary)-1):\n",
    "        for j in range(i+1, len(dictionary)):\n",
    "            if dictionary[i][key] > dictionary[j][key]:\n",
    "                dictionary[i], dictionary[j] = dictionary[j], dictionary[i]\n",
    "                \n",
    "    return dictionary\n",
    "\n",
    "# main function\n",
    "if __name__ == \"__main__\":\n",
    "    \n",
    "    unsorted_dictionary = ast.literal_eval(input())\n",
    "    key = input()\n",
    "    \n",
    "    sorted_dictionary = sort_dict_key(unsorted_dictionary, key)\n",
    "    \n",
    "    print(sorted_dictionary)"
   ]
  },
  {
   "cell_type": "markdown",
   "id": "3cb02fc5",
   "metadata": {},
   "source": [
    "# Question 4:-\n",
    "\n",
    "### Given a dictionary, switch position of key and values in the dict, i.e., value becomes the key and\n",
    "### key becomes value. The function's body shouldn't have more than one statement"
   ]
  },
  {
   "cell_type": "code",
   "execution_count": 4,
   "id": "650e7014",
   "metadata": {},
   "outputs": [
    {
     "name": "stdout",
     "output_type": "stream",
     "text": [
      "{ \"key1\": \"value1\", \"key2\": \"value2\", \"key3\": \"value3\", \"key4\": \"value4\", \"key5\": \"value5\" }\n",
      "{'value1': 'key1', 'value2': 'key2', 'value3': 'key3', 'value4': 'key4', 'value5': 'key5'}\n"
     ]
    }
   ],
   "source": [
    "# importing required modules\n",
    "import ast\n",
    "\n",
    "# function that change keys and values in dictionary\n",
    "def change_dictionary(dictionary):\n",
    "    \n",
    "    keys = list(dictionary.keys())\n",
    "    \n",
    "    for i in keys:\n",
    "        if i in dictionary:\n",
    "            dictionary[dictionary[i]] = i\n",
    "            del dictionary[i]\n",
    "        \n",
    "    return dictionary\n",
    "\n",
    "# main function\n",
    "if __name__ == '__main__':\n",
    "    \n",
    "    dictionary = ast.literal_eval(input())\n",
    "    \n",
    "    changed_dictionary = change_dictionary(dictionary)\n",
    "    \n",
    "    print(changed_dictionary)"
   ]
  },
  {
   "cell_type": "markdown",
   "id": "e9340d3f",
   "metadata": {},
   "source": [
    "# Question 5:-\n",
    "\n",
    "### Given 2 lists in input. Write a program to return the elements, which are common to both\n",
    "### lists(set intersection) and those which are not common(set symmetric difference) between the\n",
    "### lists."
   ]
  },
  {
   "cell_type": "code",
   "execution_count": 5,
   "id": "c91b202a",
   "metadata": {},
   "outputs": [
    {
     "name": "stdout",
     "output_type": "stream",
     "text": [
      "[\"One Punch Man\",\"Attack On Titan\",\"One Piece\",\"Sword Art Online\",\"Bleach\",\"Dragon Ball Z\",\"One Piece\"]\n",
      "[\"Full Metal Alchemist\",\"Code Geass\",\"Death Note\",\"Stein's Gate\",\"The Devil is a Part Timer!\",\"One Piece\",\"Attack On Titan\"]\n",
      "[['One Piece', 'Attack On Titan'], ['Sword Art Online', 'Code Geass', \"Stein's Gate\", 'Dragon Ball Z', 'One Punch Man', 'Death Note', 'Full Metal Alchemist', 'The Devil is a Part Timer!', 'Bleach']]\n"
     ]
    }
   ],
   "source": [
    "# importing required modules\n",
    "import ast\n",
    "\n",
    "# this function returns the list which contains coomon and not common words\n",
    "def common_not_common(mainstream, must_watch):\n",
    "    \n",
    "    common = list(set(mainstream).intersection(set(must_watch)))\n",
    "    not_common = list(set(mainstream).symmetric_difference(set(must_watch)))\n",
    "    \n",
    "    return [common, not_common]\n",
    "\n",
    "# main function\n",
    "if __name__ == \"__main__\":\n",
    "    \n",
    "    mainstream = ast.literal_eval(input())\n",
    "    must_watch = ast.literal_eval(input())\n",
    "    \n",
    "    common_not_common_list = common_not_common(mainstream, must_watch)\n",
    "    \n",
    "    print(common_not_common_list)"
   ]
  },
  {
   "cell_type": "markdown",
   "id": "c39e8f51",
   "metadata": {},
   "source": [
    "# Question 6:-\n",
    "\n",
    "### Given a list and 2 indices as input, return the sub-list enclosed within these 2 indices. It should\n",
    "### contain every second element."
   ]
  },
  {
   "cell_type": "code",
   "execution_count": 14,
   "id": "81eb56f5",
   "metadata": {},
   "outputs": [
    {
     "name": "stdout",
     "output_type": "stream",
     "text": [
      "[2,3,5,7,11,13,17,19,23,29,31,37,41]\n",
      "2\n",
      "14\n",
      "[5, 11, 17, 23, 31, 41]\n"
     ]
    }
   ],
   "source": [
    "# importing required modules\n",
    "import ast\n",
    "\n",
    "def extract_sub_list(full_list, index1, index2):\n",
    "    \n",
    "    sub_list = []\n",
    "    \n",
    "    for i in full_list[index1:index2+1:2]:\n",
    "        sub_list.append(i)\n",
    "        \n",
    "    return sub_list\n",
    "\n",
    "# main function\n",
    "if __name__ == \"__main__\":\n",
    "    \n",
    "    full_list = ast.literal_eval(input())\n",
    "    index1 = int(input())\n",
    "    index2 = int(input())\n",
    "    \n",
    "    sub_list = extract_sub_list(full_list, index1, index2)\n",
    "    \n",
    "    print(sub_list)"
   ]
  },
  {
   "cell_type": "markdown",
   "id": "053cc84e",
   "metadata": {},
   "source": [
    "# Question 7:-\n",
    "\n",
    "### Calculate the factorial of a number using lambda function"
   ]
  },
  {
   "cell_type": "code",
   "execution_count": 17,
   "id": "ab8b92cd",
   "metadata": {},
   "outputs": [
    {
     "name": "stdout",
     "output_type": "stream",
     "text": [
      "5\n",
      "120\n"
     ]
    }
   ],
   "source": [
    "# lambda function\n",
    "calculate_factorial = lambda number : 1 if number <= 1 else number*calculate_factorial(number-1)\n",
    "\n",
    "if __name__ == \"__main__\":\n",
    "    \n",
    "    number = int(input())\n",
    "    \n",
    "    factorial = calculate_factorial(number)\n",
    "    \n",
    "    print(factorial)"
   ]
  },
  {
   "cell_type": "markdown",
   "id": "fdd11787",
   "metadata": {},
   "source": [
    "# Question 8:-\n",
    "\n",
    "### Looking at the below code, write down the final values of A0, A1, ...An\n",
    "### A0 = dict(zip(('a','b','c','d','e'),(1,2,3,4,5)))\n",
    "### A1 = range(10)\n",
    "### A2 = sorted([i for i in A1 if i in A0])\n",
    "### A3 = sorted([A0[s] for s in A0])\n",
    "### A4 = [i for i in A1 if i in A3]\n",
    "### A5 = {i:i*i for i in A1}\n",
    "### A6 = [[i,i*i] for i in A1]\n",
    "### A7 = reduce(lambda x,y: x+y, [10,23, -45, 33])\n",
    "### A8 = map(lambda x: x*2, [1,2,3,4])\n",
    "### A9 = filter(lambda x: len(x) >3, [“I” , “want”, “to”, “learn”, “python”])\n",
    "\n",
    "# Answers:-\n",
    "\n",
    "### A0 = {'a': 1, 'b': 2, 'c': 3, 'd': 4, 'e': 5}\n",
    "### A1 = [0, 1, 2, 3, 4, 5, 6, 7, 8, 9]\n",
    "### A2 = [ ]\n",
    "### A3 = [1, 2, 3, 4, 5]\n",
    "### A4 = [1, 2, 3, 4, 5]\n",
    "### A5 = {0: 0, 1: 1, 2: 4, 3: 9, 4: 16, 5: 25, 6: 36, 7: 49, 8: 64, 9: 81}\n",
    "### A6 = [[0, 0], [1, 1], [2, 4], [3, 9], [4, 16], [5, 25], [6, 36], [7, 49], [8, 64], [9, 81]]\n",
    "### A7 = 21\n",
    "### A8 = [2, 4, 6, 8]\n",
    "### A9 = ['want', 'learn', 'python']"
   ]
  },
  {
   "cell_type": "markdown",
   "id": "ae70ebc0",
   "metadata": {},
   "source": [
    "# Question 9:-\n",
    "\n",
    "### Write a func that takes 3 args:\n",
    "### from_date - string representing a date in the form of 'yy-mm-dd'\n",
    "### to_date - string representing a date in the form of 'yy-mm-dd'\n",
    "### difference - int\n",
    "### Returns True if from_date and to_date are less than difference days away from each other, else\n",
    "### returns False."
   ]
  },
  {
   "cell_type": "code",
   "execution_count": 48,
   "id": "a093c3e8",
   "metadata": {},
   "outputs": [
    {
     "name": "stdout",
     "output_type": "stream",
     "text": [
      "23-07-15\n",
      "23-06-10\n",
      "-45\n",
      "False\n"
     ]
    }
   ],
   "source": [
    "# import required modules\n",
    "from datetime import datetime, timedelta\n",
    "\n",
    "# this function compares\n",
    "def comparing_function(from_date, to_date, difference):\n",
    "    \n",
    "    from_date = datetime.strptime(from_date, '%y-%m-%d')\n",
    "    to_date = datetime.strptime(to_date, '%y-%m-%d')\n",
    "    \n",
    "    delta = to_date - from_date\n",
    "    \n",
    "    if delta < timedelta(days=difference):\n",
    "        return True\n",
    "    else:\n",
    "        return False\n",
    "    \n",
    "# main function\n",
    "if __name__ == \"__main__\":\n",
    "    \n",
    "    from_date = input()\n",
    "    to_date = input()\n",
    "    difference = int(input())\n",
    "    \n",
    "    result = comparing_function(from_date, to_date, difference)\n",
    "    \n",
    "    print(result)"
   ]
  },
  {
   "cell_type": "markdown",
   "id": "0bf748da",
   "metadata": {},
   "source": [
    "# Question 10:-\n",
    "\n",
    "### Of date and days\n",
    "### Write a func that takes 2 args:\n",
    "### date - string representing a date in the form of 'yy-mm-dd'\n",
    "### n - integer\n",
    "### Returns the string representation of date n days before 'date'"
   ]
  },
  {
   "cell_type": "code",
   "execution_count": 47,
   "id": "bbe9a2b1",
   "metadata": {},
   "outputs": [
    {
     "name": "stdout",
     "output_type": "stream",
     "text": [
      "16-12-10\n",
      "11\n",
      "16-11-29\n"
     ]
    }
   ],
   "source": [
    "# importing required modules\n",
    "from datetime import datetime, timedelta\n",
    "\n",
    "# function calculate date n days before date\n",
    "def get_date(date, days):\n",
    "    \n",
    "    date = datetime.strptime(date, '%y-%m-%d')\n",
    "    days = timedelta(days=days)\n",
    "    \n",
    "    new_date = date - days\n",
    "    \n",
    "    return new_date.strftime('%y-%m-%d')\n",
    "\n",
    "# main function\n",
    "if __name__ == \"__main__\":\n",
    "    \n",
    "    date = input()\n",
    "    days = int(input())\n",
    "    \n",
    "    new_date = get_date(date, days)\n",
    "    \n",
    "    print(new_date)"
   ]
  },
  {
   "cell_type": "markdown",
   "id": "f5676028",
   "metadata": {},
   "source": [
    "# Question 11:-\n",
    "\n",
    "### Find output of following:\n",
    "\n",
    "### def f(x,l=[]):\n",
    "###     for i in range(x):\n",
    "###         l.append(i*i)\n",
    "###     print(l)\n",
    "\n",
    "### f(2)\n",
    "### f(3,[3,2,1])\n",
    "### f(3)\n",
    "\n",
    "# Answers:-\n",
    "\n",
    "### f(2) = [0, 1]\n",
    "### f(3,[3,2,1]) = [3, 2, 1, 0, 1, 4]\n",
    "### f(3) = [0, 1, 4]"
   ]
  }
 ],
 "metadata": {
  "kernelspec": {
   "display_name": "Python 3 (ipykernel)",
   "language": "python",
   "name": "python3"
  },
  "language_info": {
   "codemirror_mode": {
    "name": "ipython",
    "version": 3
   },
   "file_extension": ".py",
   "mimetype": "text/x-python",
   "name": "python",
   "nbconvert_exporter": "python",
   "pygments_lexer": "ipython3",
   "version": "3.9.12"
  }
 },
 "nbformat": 4,
 "nbformat_minor": 5
}
